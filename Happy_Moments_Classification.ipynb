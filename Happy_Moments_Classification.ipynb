{
  "nbformat": 4,
  "nbformat_minor": 0,
  "metadata": {
    "colab": {
      "name": " Happy Moments Classification.ipynb",
      "provenance": []
    },
    "kernelspec": {
      "name": "python3",
      "display_name": "Python 3"
    },
    "language_info": {
      "name": "python"
    },
    "accelerator": "TPU"
  },
  "cells": [
    {
      "cell_type": "code",
      "metadata": {
        "colab": {
          "base_uri": "https://localhost:8080/"
        },
        "id": "7v3VBlHYPNoq",
        "outputId": "e5c184b9-9c5a-4ac7-aa7e-e26e32ac0ef6"
      },
      "source": [
        "import numpy as np\n",
        "import pandas as pd\n",
        "\n",
        "import matplotlib.pyplot as plt\n",
        "import seaborn as sns\n",
        "sns.set(color_codes=True)\n",
        "\n",
        "import os\n",
        "import string\n",
        "import re\n",
        "import nltk\n",
        "nltk.download('punkt')\n",
        "nltk.download('stopwords')\n",
        "nltk.download('wordnet')\n",
        "from nltk.tokenize import word_tokenize\n",
        "from nltk.corpus import stopwords\n",
        "from nltk.stem.wordnet import WordNetLemmatizer\n",
        "from gensim.models import Word2Vec\n",
        "\n",
        "import tensorflow\n",
        "from tensorflow.keras.preprocessing.text import Tokenizer\n",
        "from tensorflow.keras.preprocessing.sequence import pad_sequences\n",
        "from tensorflow.keras.models import Sequential\n",
        "from tensorflow.keras.layers import Dense,Embedding,LSTM,GRU,Bidirectional,BatchNormalization\n",
        "from tensorflow.keras.callbacks import EarlyStopping,ReduceLROnPlateau\n",
        "\n",
        "import warnings\n",
        "warnings.filterwarnings(\"ignore\")"
      ],
      "execution_count": 25,
      "outputs": [
        {
          "output_type": "stream",
          "text": [
            "[nltk_data] Downloading package punkt to /root/nltk_data...\n",
            "[nltk_data]   Package punkt is already up-to-date!\n",
            "[nltk_data] Downloading package stopwords to /root/nltk_data...\n",
            "[nltk_data]   Package stopwords is already up-to-date!\n",
            "[nltk_data] Downloading package wordnet to /root/nltk_data...\n",
            "[nltk_data]   Package wordnet is already up-to-date!\n"
          ],
          "name": "stdout"
        }
      ]
    },
    {
      "cell_type": "code",
      "metadata": {
        "id": "YvH8-0voQlf9"
      },
      "source": [
        "data = pd.read_csv('/content/drive/MyDrive/Untitled folder/cleaned_hm.csv')\n",
        "df = data.copy()"
      ],
      "execution_count": 2,
      "outputs": []
    },
    {
      "cell_type": "code",
      "metadata": {
        "colab": {
          "base_uri": "https://localhost:8080/",
          "height": 204
        },
        "id": "KzwpJMDZQp9T",
        "outputId": "6285ad40-9597-4b54-f66c-e5c7d5328ca9"
      },
      "source": [
        "df.head()"
      ],
      "execution_count": 3,
      "outputs": [
        {
          "output_type": "execute_result",
          "data": {
            "text/html": [
              "<div>\n",
              "<style scoped>\n",
              "    .dataframe tbody tr th:only-of-type {\n",
              "        vertical-align: middle;\n",
              "    }\n",
              "\n",
              "    .dataframe tbody tr th {\n",
              "        vertical-align: top;\n",
              "    }\n",
              "\n",
              "    .dataframe thead th {\n",
              "        text-align: right;\n",
              "    }\n",
              "</style>\n",
              "<table border=\"1\" class=\"dataframe\">\n",
              "  <thead>\n",
              "    <tr style=\"text-align: right;\">\n",
              "      <th></th>\n",
              "      <th>hmid</th>\n",
              "      <th>wid</th>\n",
              "      <th>reflection_period</th>\n",
              "      <th>original_hm</th>\n",
              "      <th>cleaned_hm</th>\n",
              "      <th>modified</th>\n",
              "      <th>num_sentence</th>\n",
              "      <th>ground_truth_category</th>\n",
              "      <th>predicted_category</th>\n",
              "    </tr>\n",
              "  </thead>\n",
              "  <tbody>\n",
              "    <tr>\n",
              "      <th>0</th>\n",
              "      <td>27673</td>\n",
              "      <td>2053</td>\n",
              "      <td>24h</td>\n",
              "      <td>I went on a successful date with someone I fel...</td>\n",
              "      <td>I went on a successful date with someone I fel...</td>\n",
              "      <td>True</td>\n",
              "      <td>1</td>\n",
              "      <td>NaN</td>\n",
              "      <td>affection</td>\n",
              "    </tr>\n",
              "    <tr>\n",
              "      <th>1</th>\n",
              "      <td>27674</td>\n",
              "      <td>2</td>\n",
              "      <td>24h</td>\n",
              "      <td>I was happy when my son got 90% marks in his e...</td>\n",
              "      <td>I was happy when my son got 90% marks in his e...</td>\n",
              "      <td>True</td>\n",
              "      <td>1</td>\n",
              "      <td>NaN</td>\n",
              "      <td>affection</td>\n",
              "    </tr>\n",
              "    <tr>\n",
              "      <th>2</th>\n",
              "      <td>27675</td>\n",
              "      <td>1936</td>\n",
              "      <td>24h</td>\n",
              "      <td>I went to the gym this morning and did yoga.</td>\n",
              "      <td>I went to the gym this morning and did yoga.</td>\n",
              "      <td>True</td>\n",
              "      <td>1</td>\n",
              "      <td>NaN</td>\n",
              "      <td>exercise</td>\n",
              "    </tr>\n",
              "    <tr>\n",
              "      <th>3</th>\n",
              "      <td>27676</td>\n",
              "      <td>206</td>\n",
              "      <td>24h</td>\n",
              "      <td>We had a serious talk with some friends of our...</td>\n",
              "      <td>We had a serious talk with some friends of our...</td>\n",
              "      <td>True</td>\n",
              "      <td>2</td>\n",
              "      <td>bonding</td>\n",
              "      <td>bonding</td>\n",
              "    </tr>\n",
              "    <tr>\n",
              "      <th>4</th>\n",
              "      <td>27677</td>\n",
              "      <td>6227</td>\n",
              "      <td>24h</td>\n",
              "      <td>I went with grandchildren to butterfly display...</td>\n",
              "      <td>I went with grandchildren to butterfly display...</td>\n",
              "      <td>True</td>\n",
              "      <td>1</td>\n",
              "      <td>NaN</td>\n",
              "      <td>affection</td>\n",
              "    </tr>\n",
              "  </tbody>\n",
              "</table>\n",
              "</div>"
            ],
            "text/plain": [
              "    hmid   wid  ... ground_truth_category predicted_category\n",
              "0  27673  2053  ...                   NaN          affection\n",
              "1  27674     2  ...                   NaN          affection\n",
              "2  27675  1936  ...                   NaN           exercise\n",
              "3  27676   206  ...               bonding            bonding\n",
              "4  27677  6227  ...                   NaN          affection\n",
              "\n",
              "[5 rows x 9 columns]"
            ]
          },
          "metadata": {
            "tags": []
          },
          "execution_count": 3
        }
      ]
    },
    {
      "cell_type": "code",
      "metadata": {
        "colab": {
          "base_uri": "https://localhost:8080/"
        },
        "id": "0sAlL_lJQrgr",
        "outputId": "469e8836-1f92-4517-ac62-c102294f51b2"
      },
      "source": [
        "df.isnull().sum()"
      ],
      "execution_count": 4,
      "outputs": [
        {
          "output_type": "execute_result",
          "data": {
            "text/plain": [
              "hmid                         0\n",
              "wid                          0\n",
              "reflection_period            0\n",
              "original_hm                  0\n",
              "cleaned_hm                   0\n",
              "modified                     0\n",
              "num_sentence                 0\n",
              "ground_truth_category    86410\n",
              "predicted_category           0\n",
              "dtype: int64"
            ]
          },
          "metadata": {
            "tags": []
          },
          "execution_count": 4
        }
      ]
    },
    {
      "cell_type": "code",
      "metadata": {
        "id": "TSPvhO_WQy4T"
      },
      "source": [
        "classes = df['predicted_category'].unique()\n",
        "encode = [i for i in range(len(classes))]\n",
        "classes_dict = dict(zip(classes,encode))"
      ],
      "execution_count": 5,
      "outputs": []
    },
    {
      "cell_type": "code",
      "metadata": {
        "colab": {
          "base_uri": "https://localhost:8080/"
        },
        "id": "1h4hRHpNQ49z",
        "outputId": "4b0c6aa0-fd3e-4e2b-8b65-a6ba0f2635ac"
      },
      "source": [
        "classes_dict"
      ],
      "execution_count": 6,
      "outputs": [
        {
          "output_type": "execute_result",
          "data": {
            "text/plain": [
              "{'achievement': 4,\n",
              " 'affection': 0,\n",
              " 'bonding': 2,\n",
              " 'enjoy_the_moment': 5,\n",
              " 'exercise': 1,\n",
              " 'leisure': 3,\n",
              " 'nature': 6}"
            ]
          },
          "metadata": {
            "tags": []
          },
          "execution_count": 6
        }
      ]
    },
    {
      "cell_type": "code",
      "metadata": {
        "id": "ySTLK3uHQ9er"
      },
      "source": [
        "df = df[df['num_sentence'] < 20]\n",
        "df['predicted_category'] = df['predicted_category'].apply(lambda x : classes_dict[x])\n",
        "df = df[['cleaned_hm','predicted_category']]"
      ],
      "execution_count": 7,
      "outputs": []
    },
    {
      "cell_type": "code",
      "metadata": {
        "id": "TAfpGEP8RBhz"
      },
      "source": [
        "text = df['cleaned_hm'].values.tolist()\n",
        "categories = df['predicted_category'].values\n",
        "corpus = []"
      ],
      "execution_count": 8,
      "outputs": []
    },
    {
      "cell_type": "code",
      "metadata": {
        "colab": {
          "base_uri": "https://localhost:8080/"
        },
        "id": "myQdBPByREB7",
        "outputId": "cef7e6fa-7d1a-4735-c4ae-4ac7dadfd71a"
      },
      "source": [
        "for line in text :\n",
        "    line_new = re.sub('[^a-zA-Z]',' ', line)\n",
        "    words = word_tokenize(line_new)\n",
        "    words = [w.lower() for w in words]\n",
        "    words = list(set(words).difference(stopwords.words('english')))\n",
        "    lemma = WordNetLemmatizer()\n",
        "    words = [lemma.lemmatize(w) for w in words]\n",
        "    corpus.append(words)\n",
        "\n",
        "corpus[:5]"
      ],
      "execution_count": 9,
      "outputs": [
        {
          "output_type": "execute_result",
          "data": {
            "text/plain": [
              "[['someone', 'felt', 'sympathy', 'connection', 'went', 'successful', 'date'],\n",
              " ['son', 'examination', 'mark', 'got', 'happy'],\n",
              " ['went', 'morning', 'yoga', 'gym'],\n",
              " ['serious',\n",
              "  'evening',\n",
              "  'understood',\n",
              "  'friend',\n",
              "  'flaky',\n",
              "  'talk',\n",
              "  'lately',\n",
              "  'hanging',\n",
              "  'good'],\n",
              " ['crohn', 'conservatory', 'went', 'butterfly', 'display', 'grandchild']]"
            ]
          },
          "metadata": {
            "tags": []
          },
          "execution_count": 9
        }
      ]
    },
    {
      "cell_type": "code",
      "metadata": {
        "colab": {
          "base_uri": "https://localhost:8080/"
        },
        "id": "9Du46CE4RHYb",
        "outputId": "77409788-68b9-49a6-c02a-598f8238924b"
      },
      "source": [
        "val_split = 0.2\n",
        "max_len = 50\n",
        "\n",
        "tokenizer = Tokenizer()\n",
        "tokenizer.fit_on_texts(corpus)\n",
        "sequences = tokenizer.texts_to_sequences(corpus)\n",
        "\n",
        "word_index = tokenizer.word_index\n",
        "print(\"unique tokens - \"+str(len(word_index)))\n",
        "vocab_size = len(tokenizer.word_index) + 1\n",
        "print('vocab_size - '+str(vocab_size))\n",
        "\n",
        "lines_pad = pad_sequences(sequences, maxlen=max_len, padding='post')\n",
        "\n",
        "indices = np.arange(lines_pad.shape[0])\n",
        "np.random.shuffle(indices)\n",
        "lines_pad = lines_pad[indices]\n",
        "categories = categories[indices]\n",
        "\n",
        "n_values = np.max(categories) + 1\n",
        "Y = np.eye(n_values)[categories]\n",
        "\n",
        "num_validation_samples = int(val_split * lines_pad.shape[0])\n",
        "\n",
        "x_train = lines_pad[:-num_validation_samples]\n",
        "y_train = Y[:-num_validation_samples]\n",
        "x_test = lines_pad[-num_validation_samples:]\n",
        "y_test = Y[-num_validation_samples:]\n",
        "\n",
        "\n",
        "print('Shape of x_train:', x_train.shape)\n",
        "print('Shape of y_train:', y_train.shape)\n",
        "\n",
        "print('Shape of x_test:', x_test.shape)\n",
        "print('Shape of y_test:', y_test.shape)"
      ],
      "execution_count": 10,
      "outputs": [
        {
          "output_type": "stream",
          "text": [
            "unique tokens - 21085\n",
            "vocab_size - 21086\n",
            "Shape of x_train: (80371, 50)\n",
            "Shape of y_train: (80371, 7)\n",
            "Shape of x_test: (20092, 50)\n",
            "Shape of y_test: (20092, 7)\n"
          ],
          "name": "stdout"
        }
      ]
    },
    {
      "cell_type": "code",
      "metadata": {
        "colab": {
          "base_uri": "https://localhost:8080/"
        },
        "id": "-iD6GZI4RSxa",
        "outputId": "7514689e-a9bc-435a-87ab-ded7681b793f"
      },
      "source": [
        "w2v_emb = Word2Vec(sentences=corpus, \n",
        "                   size=300, window=7, \n",
        "                   workers=4, min_count=2, sg=0) \n",
        "vocab_words = list(w2v_emb.wv.vocab)                                                                      \n",
        "print(len(vocab_words))"
      ],
      "execution_count": 11,
      "outputs": [
        {
          "output_type": "stream",
          "text": [
            "12843\n"
          ],
          "name": "stdout"
        }
      ]
    },
    {
      "cell_type": "code",
      "metadata": {
        "id": "O5ERQzxsRpzS"
      },
      "source": [
        "filename = \"happydb_word2vec.txt\"\n",
        "w2v_emb.wv.save_word2vec_format(filename, binary=False)"
      ],
      "execution_count": 12,
      "outputs": []
    },
    {
      "cell_type": "code",
      "metadata": {
        "id": "C1FW2oWjSGLq"
      },
      "source": [
        "embeddings_index = {}\n",
        "\n",
        "f = open('/content/happydb_word2vec.txt')\n",
        "for line in f:\n",
        "    values = line.split(' ')\n",
        "    word = values[0] \n",
        "    coefs = np.asarray(values[1:], dtype='float32') \n",
        "    embeddings_index[word] = coefs\n",
        "f.close()"
      ],
      "execution_count": 13,
      "outputs": []
    },
    {
      "cell_type": "code",
      "metadata": {
        "id": "soZ2G-yaSPhU"
      },
      "source": [
        "embedding_dim = 300\n",
        "embedding_matrix = np.zeros((len(word_index) + 1, embedding_dim))\n",
        "for word, i in word_index.items():\n",
        "    embedding_vector = embeddings_index.get(word)\n",
        "    if embedding_vector is not None:\n",
        "        embedding_matrix[i] = embedding_vector"
      ],
      "execution_count": 14,
      "outputs": []
    },
    {
      "cell_type": "code",
      "metadata": {
        "colab": {
          "base_uri": "https://localhost:8080/"
        },
        "id": "o2yaq1cpSTsC",
        "outputId": "9f70478b-493a-475d-e2a6-cbae7eb7aa96"
      },
      "source": [
        "embedding_layer = Embedding(len(word_index) + 1,\n",
        "                            embedding_dim,\n",
        "                            weights=[embedding_matrix],\n",
        "                            input_length=max_len,\n",
        "                            trainable=False)\n",
        "\n",
        "model = Sequential()\n",
        "model.add(embedding_layer)\n",
        "model.add(Bidirectional(GRU(units=64,  dropout=0.2, recurrent_dropout=0.25,unroll=True)))\n",
        "model.add(BatchNormalization())\n",
        "model.add(Dense(7, activation='softmax'))\n",
        "model.compile(loss='categorical_crossentropy', optimizer='adam', metrics=['accuracy'])\n",
        "\n",
        "print(model.summary())"
      ],
      "execution_count": 15,
      "outputs": [
        {
          "output_type": "stream",
          "text": [
            "Model: \"sequential\"\n",
            "_________________________________________________________________\n",
            "Layer (type)                 Output Shape              Param #   \n",
            "=================================================================\n",
            "embedding (Embedding)        (None, 50, 300)           6325800   \n",
            "_________________________________________________________________\n",
            "bidirectional (Bidirectional (None, 128)               140544    \n",
            "_________________________________________________________________\n",
            "batch_normalization (BatchNo (None, 128)               512       \n",
            "_________________________________________________________________\n",
            "dense (Dense)                (None, 7)                 903       \n",
            "=================================================================\n",
            "Total params: 6,467,759\n",
            "Trainable params: 141,703\n",
            "Non-trainable params: 6,326,056\n",
            "_________________________________________________________________\n",
            "None\n"
          ],
          "name": "stdout"
        }
      ]
    },
    {
      "cell_type": "code",
      "metadata": {
        "colab": {
          "base_uri": "https://localhost:8080/"
        },
        "id": "xDUY6AJNSvfK",
        "outputId": "3cc44d7d-7d06-4d1a-ac73-02d6f2a42890"
      },
      "source": [
        "es = EarlyStopping(monitor = 'val_accuracy' , mode = 'max' , verbose = 1 , patience = 3)\n",
        "rlr = ReduceLROnPlateau(monitor = 'val_accuracy', patience = 2 , verbose = 1 , factor = 0.5 , min_lr = 0.0000001)\n",
        "callbacks = [es,rlr]\n",
        "\n",
        "history = model.fit(x_train, y_train, batch_size=256, epochs=10, validation_data=(x_test, y_test), callbacks=callbacks, verbose=1)"
      ],
      "execution_count": 18,
      "outputs": [
        {
          "output_type": "stream",
          "text": [
            "Epoch 1/10\n",
            "314/314 [==============================] - 207s 482ms/step - loss: 0.9387 - accuracy: 0.6933 - val_loss: 0.4881 - val_accuracy: 0.8310\n",
            "Epoch 2/10\n",
            "314/314 [==============================] - 144s 458ms/step - loss: 0.4791 - accuracy: 0.8287 - val_loss: 0.4343 - val_accuracy: 0.8456\n",
            "Epoch 3/10\n",
            "314/314 [==============================] - 143s 456ms/step - loss: 0.4347 - accuracy: 0.8410 - val_loss: 0.4169 - val_accuracy: 0.8513\n",
            "Epoch 4/10\n",
            "314/314 [==============================] - 142s 453ms/step - loss: 0.4160 - accuracy: 0.8475 - val_loss: 0.4087 - val_accuracy: 0.8534\n",
            "Epoch 5/10\n",
            "314/314 [==============================] - 143s 454ms/step - loss: 0.3991 - accuracy: 0.8535 - val_loss: 0.4076 - val_accuracy: 0.8552\n",
            "Epoch 6/10\n",
            "314/314 [==============================] - 142s 454ms/step - loss: 0.3901 - accuracy: 0.8572 - val_loss: 0.3934 - val_accuracy: 0.8587\n",
            "Epoch 7/10\n",
            "314/314 [==============================] - 142s 453ms/step - loss: 0.3864 - accuracy: 0.8584 - val_loss: 0.3943 - val_accuracy: 0.8582\n",
            "Epoch 8/10\n",
            "314/314 [==============================] - 143s 456ms/step - loss: 0.3801 - accuracy: 0.8603 - val_loss: 0.3866 - val_accuracy: 0.8594\n",
            "Epoch 9/10\n",
            "314/314 [==============================] - 142s 454ms/step - loss: 0.3672 - accuracy: 0.8630 - val_loss: 0.3861 - val_accuracy: 0.8593\n",
            "Epoch 10/10\n",
            "314/314 [==============================] - 141s 451ms/step - loss: 0.3640 - accuracy: 0.8657 - val_loss: 0.3791 - val_accuracy: 0.8633\n",
            "628/628 [==============================] - 8s 2ms/step - loss: 0.0000e+00 - accuracy: 0.0000e+00\n"
          ],
          "name": "stdout"
        },
        {
          "output_type": "execute_result",
          "data": {
            "text/plain": [
              "[0.0, 0.0]"
            ]
          },
          "metadata": {
            "tags": []
          },
          "execution_count": 18
        }
      ]
    },
    {
      "cell_type": "code",
      "metadata": {
        "colab": {
          "base_uri": "https://localhost:8080/",
          "height": 204
        },
        "id": "szKCRzrjAETq",
        "outputId": "d6ba58d2-b320-41d8-e10d-2af08c366419"
      },
      "source": [
        "df = pd.DataFrame(history.history)\n",
        "df.head()"
      ],
      "execution_count": 23,
      "outputs": [
        {
          "output_type": "execute_result",
          "data": {
            "text/html": [
              "<div>\n",
              "<style scoped>\n",
              "    .dataframe tbody tr th:only-of-type {\n",
              "        vertical-align: middle;\n",
              "    }\n",
              "\n",
              "    .dataframe tbody tr th {\n",
              "        vertical-align: top;\n",
              "    }\n",
              "\n",
              "    .dataframe thead th {\n",
              "        text-align: right;\n",
              "    }\n",
              "</style>\n",
              "<table border=\"1\" class=\"dataframe\">\n",
              "  <thead>\n",
              "    <tr style=\"text-align: right;\">\n",
              "      <th></th>\n",
              "      <th>loss</th>\n",
              "      <th>accuracy</th>\n",
              "      <th>val_loss</th>\n",
              "      <th>val_accuracy</th>\n",
              "      <th>lr</th>\n",
              "    </tr>\n",
              "  </thead>\n",
              "  <tbody>\n",
              "    <tr>\n",
              "      <th>0</th>\n",
              "      <td>0.678504</td>\n",
              "      <td>0.776549</td>\n",
              "      <td>0.488083</td>\n",
              "      <td>0.831027</td>\n",
              "      <td>0.001</td>\n",
              "    </tr>\n",
              "    <tr>\n",
              "      <th>1</th>\n",
              "      <td>0.465134</td>\n",
              "      <td>0.833373</td>\n",
              "      <td>0.434299</td>\n",
              "      <td>0.845560</td>\n",
              "      <td>0.001</td>\n",
              "    </tr>\n",
              "    <tr>\n",
              "      <th>2</th>\n",
              "      <td>0.430893</td>\n",
              "      <td>0.842630</td>\n",
              "      <td>0.416860</td>\n",
              "      <td>0.851284</td>\n",
              "      <td>0.001</td>\n",
              "    </tr>\n",
              "    <tr>\n",
              "      <th>3</th>\n",
              "      <td>0.414839</td>\n",
              "      <td>0.848926</td>\n",
              "      <td>0.408729</td>\n",
              "      <td>0.853424</td>\n",
              "      <td>0.001</td>\n",
              "    </tr>\n",
              "    <tr>\n",
              "      <th>4</th>\n",
              "      <td>0.400360</td>\n",
              "      <td>0.853007</td>\n",
              "      <td>0.407561</td>\n",
              "      <td>0.855216</td>\n",
              "      <td>0.001</td>\n",
              "    </tr>\n",
              "  </tbody>\n",
              "</table>\n",
              "</div>"
            ],
            "text/plain": [
              "       loss  accuracy  val_loss  val_accuracy     lr\n",
              "0  0.678504  0.776549  0.488083      0.831027  0.001\n",
              "1  0.465134  0.833373  0.434299      0.845560  0.001\n",
              "2  0.430893  0.842630  0.416860      0.851284  0.001\n",
              "3  0.414839  0.848926  0.408729      0.853424  0.001\n",
              "4  0.400360  0.853007  0.407561      0.855216  0.001"
            ]
          },
          "metadata": {
            "tags": []
          },
          "execution_count": 23
        }
      ]
    },
    {
      "cell_type": "code",
      "metadata": {
        "id": "Alqd-InnSzes",
        "colab": {
          "base_uri": "https://localhost:8080/",
          "height": 659
        },
        "outputId": "47b2c120-9fc8-464f-969c-5e93527bf415"
      },
      "source": [
        "acc = df['accuracy']\n",
        "val_acc = df['val_accuracy']\n",
        "loss = df['loss']\n",
        "val_loss = df['val_loss']\n",
        "\n",
        "epochs = range(1, len(acc)+1)\n",
        "\n",
        "plt.figure(figsize=(15,5))\n",
        "plt.plot(epochs, acc, 'g', label='Training accuracy')\n",
        "plt.plot(epochs, val_acc, 'r', label='Validation accuracy')\n",
        "plt.title('Training and validation accuracy')\n",
        "plt.legend()\n",
        "\n",
        "plt.figure(figsize=(15,5))\n",
        "plt.plot(epochs, loss, 'g', label='Training loss')\n",
        "plt.plot(epochs, val_loss, 'r', label='Validation loss')\n",
        "plt.title('Training and validation loss')\n",
        "plt.legend()\n",
        "\n",
        "plt.show()"
      ],
      "execution_count": 30,
      "outputs": [
        {
          "output_type": "display_data",
          "data": {
            "image/png": "[encoded data removed]",
            "text/plain": [
              "<Figure size 1080x360 with 1 Axes>"
            ]
          },
          "metadata": {
            "tags": []
          }
        },
        {
          "output_type": "display_data",
          "data": {
            "image/png": "[encoded data removed]",
            "text/plain": [
              "<Figure size 1080x360 with 1 Axes>"
            ]
          },
          "metadata": {
            "tags": []
          }
        }
      ]
    },
    {
      "cell_type": "code",
      "metadata": {
        "id": "-93sszxM_-GD"
      },
      "source": [
        ""
      ],
      "execution_count": null,
      "outputs": []
    }
  ]
}